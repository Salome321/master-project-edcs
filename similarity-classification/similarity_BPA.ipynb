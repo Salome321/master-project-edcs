{
 "cells": [
  {
   "cell_type": "code",
   "execution_count": 1,
   "metadata": {},
   "outputs": [],
   "source": [
    "from rdkit import Chem\n",
    "from rdkit import DataStructs\n",
    "from rdkit.Chem.Fingerprints import FingerprintMols\n",
    "import pandas as pd"
   ]
  },
  {
   "cell_type": "code",
   "execution_count": 2,
   "metadata": {},
   "outputs": [],
   "source": [
    "# read the csv\n",
    "df = pd.read_csv('DEDuCT_ChemicalBasicInformation.csv')"
   ]
  },
  {
   "cell_type": "code",
   "execution_count": 4,
   "metadata": {},
   "outputs": [
    {
     "name": "stdout",
     "output_type": "stream",
     "text": [
      "686 686\n"
     ]
    }
   ],
   "source": [
    "# proof and make a list of SMILES\n",
    "df_smiles = df['SMILES (Canonical)']\n",
    "c_smiles = []\n",
    "for ds in df_smiles:\n",
    "    try:\n",
    "        cs = Chem.CanonSmiles(ds)\n",
    "        c_smiles.append(cs)\n",
    "    except:\n",
    "        print('Invalid SMILES:', ds)\n",
    "print(len(c_smiles), len(df_smiles))"
   ]
  },
  {
   "cell_type": "code",
   "execution_count": 7,
   "metadata": {},
   "outputs": [],
   "source": [
    "# make a list of mols\n",
    "ms = [Chem.MolFromSmiles(x) for x in c_smiles]\n",
    "\n",
    "# make a list of fingerprints (fp)\n",
    "fps = [FingerprintMols.FingerprintMol(x) for x in ms]\n",
    "\n",
    "# Make a query_fingerprint for the reference molecule of interest eg. Bisphenol A (BPA) or estradiol\n",
    "estradiol_SMILES = 'CC12CCC3C(C1CCC2O)CCC4=C3C=CC(=C4)O'\n",
    "BPA_SMILES = 'CC(C)(C1=CC=C(C=C1)O)C2=CC=C(C=C2)O'\n",
    "query_ms = Chem.MolFromSmiles(BPA_SMILES)\n",
    "query_fp = FingerprintMols.FingerprintMol(query_ms)\n",
    "\n",
    "# ta is the list of targets, sim is the similarity between the target and the reference molecule of interest chosen previously\n",
    "ta, sim = [], []\n",
    "for n in range(len(fps)):\n",
    "    s = DataStructs.TanimotoSimilarity(query_fp, fps[n])\n",
    "    ta.append(c_smiles[n])\n",
    "    sim.append(s)\n",
    "\n",
    "# Build the dataframe and sort it according to similarity with the reference molecule\n",
    "d = {'Target':ta, 'Similarity':sim}\n",
    "df_scores = pd.DataFrame(data=d)\n",
    "df_final = df_scores.sort_values('Similarity', ascending=False)\n",
    "#print(df_final)\n",
    "\n",
    "# save as csv\n",
    "df_final.to_csv('Classified.csv', index=False, sep=',')\n"
   ]
  },
  {
   "cell_type": "code",
   "execution_count": null,
   "metadata": {},
   "outputs": [],
   "source": [
    "# Classified version of the Chemical Basic Information csv file\n",
    "df_classified = pd.read_csv('DEDuCT_ChemicalBasicInformation.csv')\n",
    "df_classified['Similarity'] = sim\n",
    "df_classified = df_classified.sort_values('Similarity', ascending=False)\n",
    "df_classified.to_csv('DEDuCT_Classified_ChemicalBasicInformation.csv', index=False, sep=',')"
   ]
  }
 ],
 "metadata": {
  "kernelspec": {
   "display_name": "my-rdkit-env",
   "language": "python",
   "name": "python3"
  },
  "language_info": {
   "codemirror_mode": {
    "name": "ipython",
    "version": 3
   },
   "file_extension": ".py",
   "mimetype": "text/x-python",
   "name": "python",
   "nbconvert_exporter": "python",
   "pygments_lexer": "ipython3",
   "version": "3.10.12"
  },
  "orig_nbformat": 4
 },
 "nbformat": 4,
 "nbformat_minor": 2
}
